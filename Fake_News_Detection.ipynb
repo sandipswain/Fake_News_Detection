{
 "cells": [
  {
   "cell_type": "code",
   "execution_count": 1,
   "id": "77bbd922",
   "metadata": {},
   "outputs": [],
   "source": [
    "import pandas as pd\n",
    "import numpy as np\n",
    "\n",
    "import matplotlib.pyplot as plt\n",
    "from matplotlib import rcParams\n",
    "import nltk\n",
    "from nltk.corpus import stopwords\n",
    "stopwords = nltk.corpus.stopwords.words('english')\n",
    "from nltk.tokenize import word_tokenize\n",
    "import contractions\n",
    "import time\n",
    "import string\n",
    "import re\n",
    "import inspect\n",
    "import pickle\n",
    "\n",
    "from sklearn.model_selection import train_test_split\n",
    "from sklearn.feature_extraction.text import TfidfTransformer\n",
    "from sklearn.feature_extraction.text import CountVectorizer\n",
    "from sklearn.naive_bayes import MultinomialNB\n",
    "from sklearn.ensemble import RandomForestClassifier\n",
    "from sklearn.linear_model import LogisticRegression\n",
    "from sklearn.tree import DecisionTreeClassifier\n",
    "from sklearn.svm import LinearSVC\n",
    "from sklearn.metrics import precision_score, recall_score, f1_score, accuracy_score,confusion_matrix\n",
    "\n",
    "import warnings\n",
    "warnings.filterwarnings('ignore')"
   ]
  },
  {
   "cell_type": "code",
   "execution_count": 2,
   "id": "89a1cc6d",
   "metadata": {},
   "outputs": [],
   "source": [
    "train_df = pd.read_csv('train.csv', header=0)"
   ]
  },
  {
   "cell_type": "markdown",
   "id": "a76a808b",
   "metadata": {},
   "source": [
    "### 1. Null Imputation"
   ]
  },
  {
   "cell_type": "code",
   "execution_count": 3,
   "id": "24d4ea63",
   "metadata": {
    "scrolled": true
   },
   "outputs": [
    {
     "name": "stdout",
     "output_type": "stream",
     "text": [
      "116\n"
     ]
    },
    {
     "data": {
      "text/html": [
       "<div>\n",
       "<style scoped>\n",
       "    .dataframe tbody tr th:only-of-type {\n",
       "        vertical-align: middle;\n",
       "    }\n",
       "\n",
       "    .dataframe tbody tr th {\n",
       "        vertical-align: top;\n",
       "    }\n",
       "\n",
       "    .dataframe thead th {\n",
       "        text-align: right;\n",
       "    }\n",
       "</style>\n",
       "<table border=\"1\" class=\"dataframe\">\n",
       "  <thead>\n",
       "    <tr style=\"text-align: right;\">\n",
       "      <th></th>\n",
       "      <th>id</th>\n",
       "      <th>title</th>\n",
       "      <th>author</th>\n",
       "      <th>text</th>\n",
       "      <th>label</th>\n",
       "      <th>raw_text_length</th>\n",
       "    </tr>\n",
       "  </thead>\n",
       "  <tbody>\n",
       "    <tr>\n",
       "      <th>0</th>\n",
       "      <td>0</td>\n",
       "      <td>House Dem Aide: We Didn’t Even See Comey’s Let...</td>\n",
       "      <td>Darrell Lucus</td>\n",
       "      <td>House Dem Aide: We Didn’t Even See Comey’s Let...</td>\n",
       "      <td>1</td>\n",
       "      <td>4930</td>\n",
       "    </tr>\n",
       "    <tr>\n",
       "      <th>1</th>\n",
       "      <td>1</td>\n",
       "      <td>FLYNN: Hillary Clinton, Big Woman on Campus - ...</td>\n",
       "      <td>Daniel J. Flynn</td>\n",
       "      <td>Ever get the feeling your life circles the rou...</td>\n",
       "      <td>0</td>\n",
       "      <td>4160</td>\n",
       "    </tr>\n",
       "    <tr>\n",
       "      <th>2</th>\n",
       "      <td>2</td>\n",
       "      <td>Why the Truth Might Get You Fired</td>\n",
       "      <td>Consortiumnews.com</td>\n",
       "      <td>Why the Truth Might Get You Fired October 29, ...</td>\n",
       "      <td>1</td>\n",
       "      <td>7692</td>\n",
       "    </tr>\n",
       "    <tr>\n",
       "      <th>3</th>\n",
       "      <td>3</td>\n",
       "      <td>15 Civilians Killed In Single US Airstrike Hav...</td>\n",
       "      <td>Jessica Purkiss</td>\n",
       "      <td>Videos 15 Civilians Killed In Single US Airstr...</td>\n",
       "      <td>1</td>\n",
       "      <td>3237</td>\n",
       "    </tr>\n",
       "    <tr>\n",
       "      <th>4</th>\n",
       "      <td>4</td>\n",
       "      <td>Iranian woman jailed for fictional unpublished...</td>\n",
       "      <td>Howard Portnoy</td>\n",
       "      <td>Print \\nAn Iranian woman has been sentenced to...</td>\n",
       "      <td>1</td>\n",
       "      <td>938</td>\n",
       "    </tr>\n",
       "  </tbody>\n",
       "</table>\n",
       "</div>"
      ],
      "text/plain": [
       "   id                                              title              author  \\\n",
       "0   0  House Dem Aide: We Didn’t Even See Comey’s Let...       Darrell Lucus   \n",
       "1   1  FLYNN: Hillary Clinton, Big Woman on Campus - ...     Daniel J. Flynn   \n",
       "2   2                  Why the Truth Might Get You Fired  Consortiumnews.com   \n",
       "3   3  15 Civilians Killed In Single US Airstrike Hav...     Jessica Purkiss   \n",
       "4   4  Iranian woman jailed for fictional unpublished...      Howard Portnoy   \n",
       "\n",
       "                                                text  label  raw_text_length  \n",
       "0  House Dem Aide: We Didn’t Even See Comey’s Let...      1             4930  \n",
       "1  Ever get the feeling your life circles the rou...      0             4160  \n",
       "2  Why the Truth Might Get You Fired October 29, ...      1             7692  \n",
       "3  Videos 15 Civilians Killed In Single US Airstr...      1             3237  \n",
       "4  Print \\nAn Iranian woman has been sentenced to...      1              938  "
      ]
     },
     "execution_count": 3,
     "metadata": {},
     "output_type": "execute_result"
    }
   ],
   "source": [
    "# Here we are handeling null values by replacing with empty space \n",
    "# and removing whitespaces from 'text' column.\n",
    "\n",
    "\n",
    "train_df = train_df.fillna(' ')\n",
    "train_df['text'] = train_df['text'].str.strip()\n",
    "train_df['raw_text_length'] = train_df['text'].apply(lambda x: len(x))\n",
    "print(len(train_df[train_df['raw_text_length']==0]))\n",
    "train_df.head()"
   ]
  },
  {
   "cell_type": "code",
   "execution_count": 4,
   "id": "cf6dc7c1",
   "metadata": {},
   "outputs": [
    {
     "data": {
      "text/plain": [
       "(20684, 6)"
      ]
     },
     "execution_count": 4,
     "metadata": {},
     "output_type": "execute_result"
    }
   ],
   "source": [
    "train_df = train_df[train_df['raw_text_length'] > 0]\n",
    "train_df.shape"
   ]
  },
  {
   "cell_type": "markdown",
   "id": "b2be78a1",
   "metadata": {},
   "source": [
    "### 2. Data Preprocessing\n",
    "##### 1.Remove special characters\n",
    "##### 2. Expand contractions\n",
    "##### 3. Convert to lower-case\n",
    "##### 4. Word Tokenize\n",
    "##### 5. Remove Stopwords"
   ]
  },
  {
   "cell_type": "code",
   "execution_count": 5,
   "id": "c5e3f733",
   "metadata": {},
   "outputs": [],
   "source": [
    "def preprocess_text(x):\n",
    "    cleaned_text = re.sub(r'[^a-zA-Z\\d\\s\\']+', '', x)\n",
    "    word_list = []\n",
    "    for each_word in cleaned_text.split(' '):\n",
    "        try:\n",
    "            word_list.append(contractions.fix(each_word).lower())\n",
    "        except:\n",
    "            print(x)\n",
    "    return \" \".join(word_list)"
   ]
  },
  {
   "cell_type": "code",
   "execution_count": 6,
   "id": "2ff276c0",
   "metadata": {},
   "outputs": [],
   "source": [
    "text_cols = ['text', 'title', 'author']"
   ]
  },
  {
   "cell_type": "code",
   "execution_count": 7,
   "id": "700b4b00",
   "metadata": {},
   "outputs": [
    {
     "name": "stdout",
     "output_type": "stream",
     "text": [
      "Wall time: 0 ns\n",
      "Processing column: text\n",
      "Processing column: title\n",
      "Processing column: author\n"
     ]
    }
   ],
   "source": [
    "#Time taken by preprocess_text function\n",
    "\n",
    "%time\n",
    "for col in text_cols:\n",
    "    print(\"Processing column: {}\".format(col))\n",
    "    train_df[col] = train_df[col].apply(lambda x: preprocess_text(x))"
   ]
  },
  {
   "cell_type": "code",
   "execution_count": 8,
   "id": "7a631f17",
   "metadata": {},
   "outputs": [
    {
     "name": "stderr",
     "output_type": "stream",
     "text": [
      "[nltk_data] Downloading package punkt to\n",
      "[nltk_data]     C:\\Users\\HP\\AppData\\Roaming\\nltk_data...\n",
      "[nltk_data]   Unzipping tokenizers\\punkt.zip.\n"
     ]
    },
    {
     "data": {
      "text/plain": [
       "True"
      ]
     },
     "execution_count": 8,
     "metadata": {},
     "output_type": "execute_result"
    }
   ],
   "source": [
    "nltk.download('punkt')"
   ]
  },
  {
   "cell_type": "code",
   "execution_count": 9,
   "id": "64db0c30",
   "metadata": {},
   "outputs": [
    {
     "name": "stdout",
     "output_type": "stream",
     "text": [
      "Wall time: 0 ns\n",
      "Processing column: text\n",
      "Processing column: title\n",
      "Processing column: author\n"
     ]
    }
   ],
   "source": [
    "%time\n",
    "for col in text_cols:\n",
    "    print(\"Processing column: {}\".format(col))\n",
    "    train_df[col] = train_df[col].apply(word_tokenize)"
   ]
  },
  {
   "cell_type": "code",
   "execution_count": 10,
   "id": "1da4110e",
   "metadata": {},
   "outputs": [
    {
     "data": {
      "text/html": [
       "<div>\n",
       "<style scoped>\n",
       "    .dataframe tbody tr th:only-of-type {\n",
       "        vertical-align: middle;\n",
       "    }\n",
       "\n",
       "    .dataframe tbody tr th {\n",
       "        vertical-align: top;\n",
       "    }\n",
       "\n",
       "    .dataframe thead th {\n",
       "        text-align: right;\n",
       "    }\n",
       "</style>\n",
       "<table border=\"1\" class=\"dataframe\">\n",
       "  <thead>\n",
       "    <tr style=\"text-align: right;\">\n",
       "      <th></th>\n",
       "      <th>id</th>\n",
       "      <th>title</th>\n",
       "      <th>author</th>\n",
       "      <th>text</th>\n",
       "      <th>label</th>\n",
       "      <th>raw_text_length</th>\n",
       "    </tr>\n",
       "  </thead>\n",
       "  <tbody>\n",
       "    <tr>\n",
       "      <th>0</th>\n",
       "      <td>0</td>\n",
       "      <td>[house, dem, aide, we, did, not, even, see, co...</td>\n",
       "      <td>[darrell, lucus]</td>\n",
       "      <td>[house, dem, aide, we, did, not, even, see, co...</td>\n",
       "      <td>1</td>\n",
       "      <td>4930</td>\n",
       "    </tr>\n",
       "    <tr>\n",
       "      <th>1</th>\n",
       "      <td>1</td>\n",
       "      <td>[flynn, hillary, clinton, big, woman, on, camp...</td>\n",
       "      <td>[daniel, j, flynn]</td>\n",
       "      <td>[ever, get, the, feeling, your, life, circles,...</td>\n",
       "      <td>0</td>\n",
       "      <td>4160</td>\n",
       "    </tr>\n",
       "    <tr>\n",
       "      <th>2</th>\n",
       "      <td>2</td>\n",
       "      <td>[why, the, truth, might, get, you, fired]</td>\n",
       "      <td>[consortiumnewscom]</td>\n",
       "      <td>[why, the, truth, might, get, you, fired, octo...</td>\n",
       "      <td>1</td>\n",
       "      <td>7692</td>\n",
       "    </tr>\n",
       "    <tr>\n",
       "      <th>3</th>\n",
       "      <td>3</td>\n",
       "      <td>[15, civilians, killed, in, single, us, airstr...</td>\n",
       "      <td>[jessica, purkiss]</td>\n",
       "      <td>[videos, 15, civilians, killed, in, single, us...</td>\n",
       "      <td>1</td>\n",
       "      <td>3237</td>\n",
       "    </tr>\n",
       "    <tr>\n",
       "      <th>4</th>\n",
       "      <td>4</td>\n",
       "      <td>[iranian, woman, jailed, for, fictional, unpub...</td>\n",
       "      <td>[howard, portnoy]</td>\n",
       "      <td>[print, an, iranian, woman, has, been, sentenc...</td>\n",
       "      <td>1</td>\n",
       "      <td>938</td>\n",
       "    </tr>\n",
       "  </tbody>\n",
       "</table>\n",
       "</div>"
      ],
      "text/plain": [
       "   id                                              title               author  \\\n",
       "0   0  [house, dem, aide, we, did, not, even, see, co...     [darrell, lucus]   \n",
       "1   1  [flynn, hillary, clinton, big, woman, on, camp...   [daniel, j, flynn]   \n",
       "2   2          [why, the, truth, might, get, you, fired]  [consortiumnewscom]   \n",
       "3   3  [15, civilians, killed, in, single, us, airstr...   [jessica, purkiss]   \n",
       "4   4  [iranian, woman, jailed, for, fictional, unpub...    [howard, portnoy]   \n",
       "\n",
       "                                                text  label  raw_text_length  \n",
       "0  [house, dem, aide, we, did, not, even, see, co...      1             4930  \n",
       "1  [ever, get, the, feeling, your, life, circles,...      0             4160  \n",
       "2  [why, the, truth, might, get, you, fired, octo...      1             7692  \n",
       "3  [videos, 15, civilians, killed, in, single, us...      1             3237  \n",
       "4  [print, an, iranian, woman, has, been, sentenc...      1              938  "
      ]
     },
     "execution_count": 10,
     "metadata": {},
     "output_type": "execute_result"
    }
   ],
   "source": [
    "train_df.head()"
   ]
  },
  {
   "cell_type": "code",
   "execution_count": 11,
   "id": "1931ba50",
   "metadata": {},
   "outputs": [
    {
     "name": "stdout",
     "output_type": "stream",
     "text": [
      "Wall time: 0 ns\n",
      "Processing column: text\n",
      "Processing column: title\n",
      "Processing column: author\n"
     ]
    }
   ],
   "source": [
    "%time\n",
    "for col in text_cols:\n",
    "    print(\"Processing column: {}\".format(col))\n",
    "    train_df[col] = train_df[col].apply(\n",
    "        lambda x: [each_word for each_word in x if each_word not in stopwords])"
   ]
  },
  {
   "cell_type": "markdown",
   "id": "8cffa085",
   "metadata": {},
   "source": [
    "### Model Training"
   ]
  },
  {
   "cell_type": "code",
   "execution_count": 12,
   "id": "1f15f9d3",
   "metadata": {},
   "outputs": [],
   "source": [
    "train_df['text_joined'] = train_df['text'].apply(lambda x: \" \".join(x))\n",
    "target = train_df['label'].values"
   ]
  },
  {
   "cell_type": "code",
   "execution_count": 13,
   "id": "a72746bb",
   "metadata": {},
   "outputs": [
    {
     "data": {
      "text/html": [
       "<div>\n",
       "<style scoped>\n",
       "    .dataframe tbody tr th:only-of-type {\n",
       "        vertical-align: middle;\n",
       "    }\n",
       "\n",
       "    .dataframe tbody tr th {\n",
       "        vertical-align: top;\n",
       "    }\n",
       "\n",
       "    .dataframe thead th {\n",
       "        text-align: right;\n",
       "    }\n",
       "</style>\n",
       "<table border=\"1\" class=\"dataframe\">\n",
       "  <thead>\n",
       "    <tr style=\"text-align: right;\">\n",
       "      <th></th>\n",
       "      <th>id</th>\n",
       "      <th>title</th>\n",
       "      <th>author</th>\n",
       "      <th>text</th>\n",
       "      <th>label</th>\n",
       "      <th>raw_text_length</th>\n",
       "      <th>text_joined</th>\n",
       "    </tr>\n",
       "  </thead>\n",
       "  <tbody>\n",
       "    <tr>\n",
       "      <th>0</th>\n",
       "      <td>0</td>\n",
       "      <td>[house, dem, aide, even, see, comeys, letter, ...</td>\n",
       "      <td>[darrell, lucus]</td>\n",
       "      <td>[house, dem, aide, even, see, comeys, letter, ...</td>\n",
       "      <td>1</td>\n",
       "      <td>4930</td>\n",
       "      <td>house dem aide even see comeys letter jason ch...</td>\n",
       "    </tr>\n",
       "    <tr>\n",
       "      <th>1</th>\n",
       "      <td>1</td>\n",
       "      <td>[flynn, hillary, clinton, big, woman, campus, ...</td>\n",
       "      <td>[daniel, j, flynn]</td>\n",
       "      <td>[ever, get, feeling, life, circles, roundabout...</td>\n",
       "      <td>0</td>\n",
       "      <td>4160</td>\n",
       "      <td>ever get feeling life circles roundabout rathe...</td>\n",
       "    </tr>\n",
       "    <tr>\n",
       "      <th>2</th>\n",
       "      <td>2</td>\n",
       "      <td>[truth, might, get, fired]</td>\n",
       "      <td>[consortiumnewscom]</td>\n",
       "      <td>[truth, might, get, fired, october, 29, 2016, ...</td>\n",
       "      <td>1</td>\n",
       "      <td>7692</td>\n",
       "      <td>truth might get fired october 29 2016 tension ...</td>\n",
       "    </tr>\n",
       "    <tr>\n",
       "      <th>3</th>\n",
       "      <td>3</td>\n",
       "      <td>[15, civilians, killed, single, us, airstrike,...</td>\n",
       "      <td>[jessica, purkiss]</td>\n",
       "      <td>[videos, 15, civilians, killed, single, us, ai...</td>\n",
       "      <td>1</td>\n",
       "      <td>3237</td>\n",
       "      <td>videos 15 civilians killed single us airstrike...</td>\n",
       "    </tr>\n",
       "    <tr>\n",
       "      <th>4</th>\n",
       "      <td>4</td>\n",
       "      <td>[iranian, woman, jailed, fictional, unpublishe...</td>\n",
       "      <td>[howard, portnoy]</td>\n",
       "      <td>[print, iranian, woman, sentenced, six, years,...</td>\n",
       "      <td>1</td>\n",
       "      <td>938</td>\n",
       "      <td>print iranian woman sentenced six years prison...</td>\n",
       "    </tr>\n",
       "  </tbody>\n",
       "</table>\n",
       "</div>"
      ],
      "text/plain": [
       "   id                                              title               author  \\\n",
       "0   0  [house, dem, aide, even, see, comeys, letter, ...     [darrell, lucus]   \n",
       "1   1  [flynn, hillary, clinton, big, woman, campus, ...   [daniel, j, flynn]   \n",
       "2   2                         [truth, might, get, fired]  [consortiumnewscom]   \n",
       "3   3  [15, civilians, killed, single, us, airstrike,...   [jessica, purkiss]   \n",
       "4   4  [iranian, woman, jailed, fictional, unpublishe...    [howard, portnoy]   \n",
       "\n",
       "                                                text  label  raw_text_length  \\\n",
       "0  [house, dem, aide, even, see, comeys, letter, ...      1             4930   \n",
       "1  [ever, get, feeling, life, circles, roundabout...      0             4160   \n",
       "2  [truth, might, get, fired, october, 29, 2016, ...      1             7692   \n",
       "3  [videos, 15, civilians, killed, single, us, ai...      1             3237   \n",
       "4  [print, iranian, woman, sentenced, six, years,...      1              938   \n",
       "\n",
       "                                         text_joined  \n",
       "0  house dem aide even see comeys letter jason ch...  \n",
       "1  ever get feeling life circles roundabout rathe...  \n",
       "2  truth might get fired october 29 2016 tension ...  \n",
       "3  videos 15 civilians killed single us airstrike...  \n",
       "4  print iranian woman sentenced six years prison...  "
      ]
     },
     "execution_count": 13,
     "metadata": {},
     "output_type": "execute_result"
    }
   ],
   "source": [
    "train_df.head()"
   ]
  },
  {
   "cell_type": "code",
   "execution_count": 14,
   "id": "4f110fa1",
   "metadata": {},
   "outputs": [],
   "source": [
    "# This process is called feature extraction (or vectorization). \n",
    "# Scikit-learn's CountVectorizer is used to convert a \n",
    "# collection of text documents to a vector of term/token counts.\n",
    "\n",
    "count_vectorizer = CountVectorizer(ngram_range=(1, 2))\n",
    "tf_idf_transformer = TfidfTransformer(smooth_idf=False)\n",
    "\n",
    "# fit train data to count vectorizer\n",
    "count_vectorizer.fit(train_df['text_joined'].values)\n",
    "count_vect_train = count_vectorizer.transform(train_df['text_joined'].values)\n",
    "\n",
    "# fit ngrams count to tfidf transformers\n",
    "tf_idf_transformer.fit(count_vect_train)\n",
    "tf_idf_train = tf_idf_transformer.transform(count_vect_train)"
   ]
  },
  {
   "cell_type": "markdown",
   "id": "5f4996a6",
   "metadata": {},
   "source": [
    "### Train Test Split"
   ]
  },
  {
   "cell_type": "code",
   "execution_count": 15,
   "id": "11e70380",
   "metadata": {},
   "outputs": [],
   "source": [
    "X_train, X_test, y_train, y_test = train_test_split(tf_idf_train, target,test_size = 0.2, stratify=target, random_state=2)"
   ]
  },
  {
   "cell_type": "code",
   "execution_count": 16,
   "id": "17ead713",
   "metadata": {},
   "outputs": [],
   "source": [
    "df_perf_metrics = pd.DataFrame(columns=['Model', 'Accuracy_Training_Set', 'Accuracy_Test_Set', 'Precision', 'Recall', 'f1_score'])"
   ]
  },
  {
   "cell_type": "markdown",
   "id": "1762b2ac",
   "metadata": {},
   "source": [
    "### Machine Learning Classifier Training and Validating"
   ]
  },
  {
   "cell_type": "code",
   "execution_count": 17,
   "id": "7d665aad",
   "metadata": {},
   "outputs": [],
   "source": [
    "df_perf_metrics = pd.DataFrame(columns=[\n",
    "    'Model', 'Accuracy_Training_Set', 'Accuracy_Test_Set','Precision','Recall','f1_score','Training Time(secs)','Parameters'\n",
    "])\n",
    "models_trained_list = []\n",
    "\n",
    "\n",
    "def get_perf_metrics(model, i):\n",
    "    # model name\n",
    "    model_name = type(model).__name__\n",
    "    # time keeping\n",
    "    start_time = time.time()\n",
    "    print(\"Training {} model...\".format(model_name))\n",
    "    # Fitting of model\n",
    "    model.fit(X_train, y_train)\n",
    "    print(\"Completed {} model training.\".format(model_name))\n",
    "    elapsed_time = time.time() - start_time\n",
    "    paramsArr=[\"class_weight='balanced',solver='saga'\",\"min_samples_split=4\",\"C=2.0\",\"alpha=2.0\",\"max_depth=2.0\"]\n",
    "    # Time Elapsed\n",
    "    print(\"Time elapsed: {:.2f} s.\".format(elapsed_time))\n",
    "    # Predictions\n",
    "    y_pred = model.predict(X_test)\n",
    "    confusion_matrix(y_test,y_pred,labels=[1,0])\n",
    "    \n",
    "    # Add to ith row of dataframe - metrics\n",
    "    df_perf_metrics.loc[i] = [\n",
    "        model_name,\n",
    "        model.score(X_train, y_train),\n",
    "        model.score(X_test, y_test),\n",
    "        precision_score(y_test, y_pred),\n",
    "        recall_score(y_test, y_pred),\n",
    "        f1_score(y_test, y_pred), \"{:.2f}\".format(elapsed_time),\n",
    "        paramsArr[i]\n",
    "    ]\n",
    "    # keep a track of trained models\n",
    "    models_trained_list.append(model)\n",
    "    print(\"Completed {} model's performance assessment.\".format(model_name))"
   ]
  },
  {
   "cell_type": "code",
   "execution_count": 18,
   "id": "12f966e4",
   "metadata": {},
   "outputs": [],
   "source": [
    "models_list = [LogisticRegression(class_weight='balanced',solver='saga'),\n",
    "               DecisionTreeClassifier(min_samples_split=4),\n",
    "               LinearSVC(C=2.0),\n",
    "               MultinomialNB(alpha=2.0),\n",
    "               RandomForestClassifier(max_depth=2.0)\n",
    "               ]"
   ]
  },
  {
   "cell_type": "code",
   "execution_count": 19,
   "id": "87e7f5e0",
   "metadata": {},
   "outputs": [
    {
     "name": "stdout",
     "output_type": "stream",
     "text": [
      "Wall time: 0 ns\n",
      "Training LogisticRegression model...\n",
      "Completed LogisticRegression model training.\n",
      "Time elapsed: 19.38 s.\n",
      "Completed LogisticRegression model's performance assessment.\n",
      "Training DecisionTreeClassifier model...\n",
      "Completed DecisionTreeClassifier model training.\n",
      "Time elapsed: 434.05 s.\n",
      "Completed DecisionTreeClassifier model's performance assessment.\n",
      "Training LinearSVC model...\n",
      "Completed LinearSVC model training.\n",
      "Time elapsed: 5.68 s.\n",
      "Completed LinearSVC model's performance assessment.\n",
      "Training MultinomialNB model...\n",
      "Completed MultinomialNB model training.\n",
      "Time elapsed: 0.72 s.\n",
      "Completed MultinomialNB model's performance assessment.\n",
      "Training RandomForestClassifier model...\n",
      "Completed RandomForestClassifier model training.\n",
      "Time elapsed: 9.31 s.\n",
      "Completed RandomForestClassifier model's performance assessment.\n"
     ]
    }
   ],
   "source": [
    "%time\n",
    "for n, model in enumerate(models_list):\n",
    "    get_perf_metrics(model, n)"
   ]
  },
  {
   "cell_type": "code",
   "execution_count": 20,
   "id": "86d39388",
   "metadata": {},
   "outputs": [
    {
     "data": {
      "text/html": [
       "<div>\n",
       "<style scoped>\n",
       "    .dataframe tbody tr th:only-of-type {\n",
       "        vertical-align: middle;\n",
       "    }\n",
       "\n",
       "    .dataframe tbody tr th {\n",
       "        vertical-align: top;\n",
       "    }\n",
       "\n",
       "    .dataframe thead th {\n",
       "        text-align: right;\n",
       "    }\n",
       "</style>\n",
       "<table border=\"1\" class=\"dataframe\">\n",
       "  <thead>\n",
       "    <tr style=\"text-align: right;\">\n",
       "      <th></th>\n",
       "      <th>Model</th>\n",
       "      <th>Accuracy_Training_Set</th>\n",
       "      <th>Accuracy_Test_Set</th>\n",
       "      <th>Precision</th>\n",
       "      <th>Recall</th>\n",
       "      <th>f1_score</th>\n",
       "      <th>Training Time(secs)</th>\n",
       "      <th>Parameters</th>\n",
       "    </tr>\n",
       "  </thead>\n",
       "  <tbody>\n",
       "    <tr>\n",
       "      <th>0</th>\n",
       "      <td>LogisticRegression</td>\n",
       "      <td>0.983441</td>\n",
       "      <td>0.944888</td>\n",
       "      <td>0.929611</td>\n",
       "      <td>0.962118</td>\n",
       "      <td>0.945585</td>\n",
       "      <td>19.38</td>\n",
       "      <td>class_weight='balanced',solver='saga'</td>\n",
       "    </tr>\n",
       "    <tr>\n",
       "      <th>1</th>\n",
       "      <td>DecisionTreeClassifier</td>\n",
       "      <td>0.999275</td>\n",
       "      <td>0.898235</td>\n",
       "      <td>0.890744</td>\n",
       "      <td>0.906751</td>\n",
       "      <td>0.898676</td>\n",
       "      <td>434.05</td>\n",
       "      <td>min_samples_split=4</td>\n",
       "    </tr>\n",
       "    <tr>\n",
       "      <th>2</th>\n",
       "      <td>LinearSVC</td>\n",
       "      <td>0.999940</td>\n",
       "      <td>0.961566</td>\n",
       "      <td>0.950237</td>\n",
       "      <td>0.973774</td>\n",
       "      <td>0.961861</td>\n",
       "      <td>5.68</td>\n",
       "      <td>C=2.0</td>\n",
       "    </tr>\n",
       "    <tr>\n",
       "      <th>3</th>\n",
       "      <td>MultinomialNB</td>\n",
       "      <td>0.899257</td>\n",
       "      <td>0.788011</td>\n",
       "      <td>0.997475</td>\n",
       "      <td>0.575522</td>\n",
       "      <td>0.729905</td>\n",
       "      <td>0.72</td>\n",
       "      <td>alpha=2.0</td>\n",
       "    </tr>\n",
       "    <tr>\n",
       "      <th>4</th>\n",
       "      <td>RandomForestClassifier</td>\n",
       "      <td>0.748776</td>\n",
       "      <td>0.733382</td>\n",
       "      <td>0.732264</td>\n",
       "      <td>0.731909</td>\n",
       "      <td>0.732086</td>\n",
       "      <td>9.31</td>\n",
       "      <td>max_depth=2.0</td>\n",
       "    </tr>\n",
       "  </tbody>\n",
       "</table>\n",
       "</div>"
      ],
      "text/plain": [
       "                    Model  Accuracy_Training_Set  Accuracy_Test_Set  \\\n",
       "0      LogisticRegression               0.983441           0.944888   \n",
       "1  DecisionTreeClassifier               0.999275           0.898235   \n",
       "2               LinearSVC               0.999940           0.961566   \n",
       "3           MultinomialNB               0.899257           0.788011   \n",
       "4  RandomForestClassifier               0.748776           0.733382   \n",
       "\n",
       "   Precision    Recall  f1_score Training Time(secs)  \\\n",
       "0   0.929611  0.962118  0.945585               19.38   \n",
       "1   0.890744  0.906751  0.898676              434.05   \n",
       "2   0.950237  0.973774  0.961861                5.68   \n",
       "3   0.997475  0.575522  0.729905                0.72   \n",
       "4   0.732264  0.731909  0.732086                9.31   \n",
       "\n",
       "                              Parameters  \n",
       "0  class_weight='balanced',solver='saga'  \n",
       "1                    min_samples_split=4  \n",
       "2                                  C=2.0  \n",
       "3                              alpha=2.0  \n",
       "4                          max_depth=2.0  "
      ]
     },
     "execution_count": 20,
     "metadata": {},
     "output_type": "execute_result"
    }
   ],
   "source": [
    "df_perf_metrics"
   ]
  },
  {
   "cell_type": "code",
   "execution_count": 21,
   "id": "f5dbef4a",
   "metadata": {},
   "outputs": [],
   "source": [
    "%matplotlib inline\n",
    "plt.rcParams.update({'figure.figsize':(10,8), 'figure.dpi':100})"
   ]
  },
  {
   "cell_type": "code",
   "execution_count": 22,
   "id": "ecf95456",
   "metadata": {},
   "outputs": [
    {
     "data": {
      "image/png": "[encoded data removed]",
      "text/plain": [
       "<Figure size 1000x800 with 1 Axes>"
      ]
     },
     "metadata": {
      "needs_background": "light"
     },
     "output_type": "display_data"
    }
   ],
   "source": [
    "plt.bar(df_perf_metrics['Model'],df_perf_metrics['Accuracy_Test_Set'],color=['orange', 'red', 'black'])\n",
    "plt.xlabel('Algorithm')\n",
    "plt.ylabel(\"Accuracy\")\n",
    "plt.title('Accuracy Bar Plot')\n",
    "plt.show()"
   ]
  },
  {
   "cell_type": "code",
   "execution_count": 23,
   "id": "f851ddc3",
   "metadata": {},
   "outputs": [],
   "source": [
    "model = models_list[2]\n",
    "filename = 'finalize_model.pkl'\n",
    "pickle.dump(model,open(filename,'wb'))"
   ]
  },
  {
   "cell_type": "code",
   "execution_count": null,
   "id": "15a4d738",
   "metadata": {},
   "outputs": [],
   "source": []
  }
 ],
 "metadata": {
  "kernelspec": {
   "display_name": "Python 3 (ipykernel)",
   "language": "python",
   "name": "python3"
  },
  "language_info": {
   "codemirror_mode": {
    "name": "ipython",
    "version": 3
   },
   "file_extension": ".py",
   "mimetype": "text/x-python",
   "name": "python",
   "nbconvert_exporter": "python",
   "pygments_lexer": "ipython3",
   "version": "3.9.7"
  }
 },
 "nbformat": 4,
 "nbformat_minor": 5
}
